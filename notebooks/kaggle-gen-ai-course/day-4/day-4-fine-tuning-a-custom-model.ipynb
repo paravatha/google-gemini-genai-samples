{
 "cells": [
  {
   "cell_type": "markdown",
   "id": "97b6ca56",
   "metadata": {
    "id": "b6e13eef3f5d",
    "papermill": {
     "duration": 0.008602,
     "end_time": "2025-04-13T02:00:11.149649",
     "exception": false,
     "start_time": "2025-04-13T02:00:11.141047",
     "status": "completed"
    },
    "tags": []
   },
   "source": [
    "##### Copyright 2025 Google LLC."
   ]
  },
  {
   "cell_type": "markdown",
   "id": "22c633e5",
   "metadata": {
    "id": "4KDIFPAL2EnL",
    "papermill": {
     "duration": 0.007707,
     "end_time": "2025-04-13T02:00:11.191612",
     "exception": false,
     "start_time": "2025-04-13T02:00:11.183905",
     "status": "completed"
    },
    "tags": []
   },
   "source": [
    "# Day 4 - Fine tuning a custom model\n",
    "\n",
    "Welcome back to the Kaggle 5-day Generative AI course!\n",
    "\n",
    "In this notebook you will use the Gemini API to fine-tune a custom, task-specific model. Fine-tuning can be used for a variety of tasks from classic NLP problems like entity extraction or summarisation, to creative tasks like stylised generation. You will fine-tune a model to classify the category a piece of text (a newsgroup post) into the category it belongs to (the newsgroup name).\n",
    "\n",
    "This codelab walks you tuning a model with the API. [AI Studio](https://aistudio.google.com/app/tune) also supports creating new tuned models directly in the web UI, allowing you to quickly create and monitor models using data from Google Sheets, Drive or your own files.\n",
    "\n",
    "**Note**: We recommend doing this codelab first today. There may be a period of waiting while the model tunes, so if you start with this one, you can try the other codelab while you wait."
   ]
  },
  {
   "cell_type": "code",
   "execution_count": 1,
   "id": "6f3aed1b",
   "metadata": {
    "execution": {
     "iopub.execute_input": "2025-04-13T02:00:29.564363Z",
     "iopub.status.busy": "2025-04-13T02:00:29.563948Z",
     "iopub.status.idle": "2025-04-13T02:00:30.867728Z",
     "shell.execute_reply": "2025-04-13T02:00:30.866650Z"
    },
    "id": "T0CBG9xL2PvT",
    "papermill": {
     "duration": 1.315166,
     "end_time": "2025-04-13T02:00:30.869911",
     "exception": false,
     "start_time": "2025-04-13T02:00:29.554745",
     "status": "completed"
    },
    "tags": []
   },
   "outputs": [
    {
     "data": {
      "text/plain": [
       "'1.14.0'"
      ]
     },
     "execution_count": 1,
     "metadata": {},
     "output_type": "execute_result"
    }
   ],
   "source": [
    "from google import genai\n",
    "from google.genai import types\n",
    "\n",
    "genai.__version__"
   ]
  },
  {
   "cell_type": "markdown",
   "id": "30b1c137",
   "metadata": {
    "id": "P4bYX2T72ScK",
    "papermill": {
     "duration": 0.007433,
     "end_time": "2025-04-13T02:00:30.885281",
     "exception": false,
     "start_time": "2025-04-13T02:00:30.877848",
     "status": "completed"
    },
    "tags": []
   },
   "source": [
    "### Set up your API key\n",
    "\n",
    "To run the following cell, your API key must be stored it in a [Kaggle secret](https://www.kaggle.com/discussions/product-feedback/114053) named `GOOGLE_API_KEY`.\n",
    "\n",
    "If you don't already have an API key, you can grab one from [AI Studio](https://aistudio.google.com/app/apikey). You can find [detailed instructions in the docs](https://ai.google.dev/gemini-api/docs/api-key).\n",
    "\n",
    "To make the key available through Kaggle secrets, choose `Secrets` from the `Add-ons` menu and follow the instructions to add your key or enable it for this notebook."
   ]
  },
  {
   "cell_type": "code",
   "execution_count": 2,
   "id": "5a08b352",
   "metadata": {
    "execution": {
     "iopub.execute_input": "2025-04-13T02:00:30.902485Z",
     "iopub.status.busy": "2025-04-13T02:00:30.901947Z",
     "iopub.status.idle": "2025-04-13T02:00:31.221821Z",
     "shell.execute_reply": "2025-04-13T02:00:31.220775Z"
    },
    "id": "VuJPY3GK2SLZ",
    "papermill": {
     "duration": 0.331373,
     "end_time": "2025-04-13T02:00:31.224307",
     "exception": false,
     "start_time": "2025-04-13T02:00:30.892934",
     "status": "completed"
    },
    "tags": []
   },
   "outputs": [],
   "source": [
    "try:\n",
    "    from kaggle_secrets import UserSecretsClient\n",
    "    GOOGLE_API_KEY = UserSecretsClient().get_secret(\"GOOGLE_API_KEY\")\n",
    "except Exception:\n",
    "    import getpass\n",
    "    GOOGLE_API_KEY = getpass.getpass(\"Enter your Google API Key: \")\n",
    "\n",
    "client = genai.Client(api_key=GOOGLE_API_KEY)"
   ]
  },
  {
   "cell_type": "markdown",
   "id": "e68a9c12",
   "metadata": {
    "id": "CqVA5QFO6n4z",
    "papermill": {
     "duration": 0.007661,
     "end_time": "2025-04-13T02:00:31.255882",
     "exception": false,
     "start_time": "2025-04-13T02:00:31.248221",
     "status": "completed"
    },
    "tags": []
   },
   "source": [
    "### Explore available models\n",
    "\n",
    "You will be using the [`TunedModel.create`](https://ai.google.dev/api/tuning#method:-tunedmodels.create) API method to start the fine-tuning job and create your custom model. Find a model that supports it through the [`models.list`](https://ai.google.dev/api/models#method:-models.list) endpoint. You can also find more information about tuning models in [the model tuning docs](https://ai.google.dev/gemini-api/docs/model-tuning/tutorial?lang=python)."
   ]
  },
  {
   "cell_type": "code",
   "execution_count": 3,
   "id": "659a5512",
   "metadata": {
    "execution": {
     "iopub.execute_input": "2025-04-13T02:00:31.273283Z",
     "iopub.status.busy": "2025-04-13T02:00:31.272893Z",
     "iopub.status.idle": "2025-04-13T02:00:31.358521Z",
     "shell.execute_reply": "2025-04-13T02:00:31.357376Z"
    },
    "id": "coEacWAB6o0G",
    "papermill": {
     "duration": 0.097074,
     "end_time": "2025-04-13T02:00:31.360928",
     "exception": false,
     "start_time": "2025-04-13T02:00:31.263854",
     "status": "completed"
    },
    "tags": []
   },
   "outputs": [
    {
     "name": "stdout",
     "output_type": "stream",
     "text": [
      "models/gemini-1.5-flash-001-tuning\n"
     ]
    }
   ],
   "source": [
    "for model in client.models.list():\n",
    "    if \"createTunedModel\" in model.supported_actions:\n",
    "        print(model.name)"
   ]
  },
  {
   "cell_type": "markdown",
   "id": "cee38efd",
   "metadata": {
    "id": "peFm0w_0c1CO",
    "papermill": {
     "duration": 0.007473,
     "end_time": "2025-04-13T02:00:31.376415",
     "exception": false,
     "start_time": "2025-04-13T02:00:31.368942",
     "status": "completed"
    },
    "tags": []
   },
   "source": [
    "## Download the dataset\n",
    "\n",
    "In this activity, you will use the same newsgroups dataset that [you used to train a classifier in Keras](https://www.kaggle.com/code/markishere/day-2-classifying-embeddings-with-keras/). In this example you will use a fine-tuned Gemini model to achieve the same goal.\n",
    "\n",
    "The [20 Newsgroups Text Dataset](https://scikit-learn.org/0.19/datasets/twenty_newsgroups.html) contains 18,000 newsgroups posts on 20 topics divided into training and test sets."
   ]
  },
  {
   "cell_type": "code",
   "execution_count": 4,
   "id": "d2078cbd",
   "metadata": {
    "execution": {
     "iopub.execute_input": "2025-04-13T02:00:31.394332Z",
     "iopub.status.busy": "2025-04-13T02:00:31.393934Z",
     "iopub.status.idle": "2025-04-13T02:00:42.560289Z",
     "shell.execute_reply": "2025-04-13T02:00:42.559259Z"
    },
    "id": "bX_kpgnQ9b-Z",
    "papermill": {
     "duration": 11.177655,
     "end_time": "2025-04-13T02:00:42.562356",
     "exception": false,
     "start_time": "2025-04-13T02:00:31.384701",
     "status": "completed"
    },
    "tags": []
   },
   "outputs": [
    {
     "data": {
      "text/plain": [
       "['alt.atheism',\n",
       " 'comp.graphics',\n",
       " 'comp.os.ms-windows.misc',\n",
       " 'comp.sys.ibm.pc.hardware',\n",
       " 'comp.sys.mac.hardware',\n",
       " 'comp.windows.x',\n",
       " 'misc.forsale',\n",
       " 'rec.autos',\n",
       " 'rec.motorcycles',\n",
       " 'rec.sport.baseball',\n",
       " 'rec.sport.hockey',\n",
       " 'sci.crypt',\n",
       " 'sci.electronics',\n",
       " 'sci.med',\n",
       " 'sci.space',\n",
       " 'soc.religion.christian',\n",
       " 'talk.politics.guns',\n",
       " 'talk.politics.mideast',\n",
       " 'talk.politics.misc',\n",
       " 'talk.religion.misc']"
      ]
     },
     "execution_count": 4,
     "metadata": {},
     "output_type": "execute_result"
    }
   ],
   "source": [
    "from sklearn.datasets import fetch_20newsgroups\n",
    "\n",
    "newsgroups_train = fetch_20newsgroups(subset=\"train\")\n",
    "newsgroups_test = fetch_20newsgroups(subset=\"test\")\n",
    "\n",
    "# View list of class names for dataset\n",
    "newsgroups_train.target_names"
   ]
  },
  {
   "cell_type": "markdown",
   "id": "139a0199",
   "metadata": {
    "id": "ipafe6ptZFjt",
    "papermill": {
     "duration": 0.007566,
     "end_time": "2025-04-13T02:00:42.577951",
     "exception": false,
     "start_time": "2025-04-13T02:00:42.570385",
     "status": "completed"
    },
    "tags": []
   },
   "source": [
    "Here's what a single row looks like."
   ]
  },
  {
   "cell_type": "code",
   "execution_count": 5,
   "id": "882dade7",
   "metadata": {
    "execution": {
     "iopub.execute_input": "2025-04-13T02:00:42.595161Z",
     "iopub.status.busy": "2025-04-13T02:00:42.594756Z",
     "iopub.status.idle": "2025-04-13T02:00:42.600357Z",
     "shell.execute_reply": "2025-04-13T02:00:42.599074Z"
    },
    "id": "EtEXcdT39hCB",
    "papermill": {
     "duration": 0.016999,
     "end_time": "2025-04-13T02:00:42.602724",
     "exception": false,
     "start_time": "2025-04-13T02:00:42.585725",
     "status": "completed"
    },
    "tags": []
   },
   "outputs": [
    {
     "name": "stdout",
     "output_type": "stream",
     "text": [
      "From: lerxst@wam.umd.edu (where's my thing)\n",
      "Subject: WHAT car is this!?\n",
      "Nntp-Posting-Host: rac3.wam.umd.edu\n",
      "Organization: University of Maryland, College Park\n",
      "Lines: 15\n",
      "\n",
      " I was wondering if anyone out there could enlighten me on this car I saw\n",
      "the other day. It was a 2-door sports car, looked to be from the late 60s/\n",
      "early 70s. It was called a Bricklin. The doors were really small. In addition,\n",
      "the front bumper was separate from the rest of the body. This is \n",
      "all I know. If anyone can tellme a model name, engine specs, years\n",
      "of production, where this car is made, history, or whatever info you\n",
      "have on this funky looking car, please e-mail.\n",
      "\n",
      "Thanks,\n",
      "- IL\n",
      "   ---- brought to you by your neighborhood Lerxst ----\n",
      "\n",
      "\n",
      "\n",
      "\n",
      "\n"
     ]
    }
   ],
   "source": [
    "print(newsgroups_train.data[0])"
   ]
  },
  {
   "cell_type": "markdown",
   "id": "87e9492c",
   "metadata": {
    "id": "03lDs1O4ZQ0-",
    "papermill": {
     "duration": 0.007843,
     "end_time": "2025-04-13T02:00:42.618627",
     "exception": false,
     "start_time": "2025-04-13T02:00:42.610784",
     "status": "completed"
    },
    "tags": []
   },
   "source": [
    "## Prepare the dataset\n",
    "\n",
    "You'll use the same pre-processing code you used for the custom model on day 2. This pre-processing removes personal information, which can be used to \"shortcut\" to known users of a forum, and formats the text to appear a bit more like regular text and less like a newsgroup post (e.g. by removing the mail headers). This normalisation allows the model to generalise to regular text and not over-depend on specific fields. If your input data is always going to be newsgroup posts, it may be helpful to leave this structure in place if they provide genuine signals."
   ]
  },
  {
   "cell_type": "code",
   "execution_count": 7,
   "id": "0dc3a47a",
   "metadata": {
    "execution": {
     "iopub.execute_input": "2025-04-13T02:00:42.636486Z",
     "iopub.status.busy": "2025-04-13T02:00:42.636110Z",
     "iopub.status.idle": "2025-04-13T02:00:43.429719Z",
     "shell.execute_reply": "2025-04-13T02:00:43.428641Z"
    },
    "id": "IoNYTxpoZgB0",
    "papermill": {
     "duration": 0.805552,
     "end_time": "2025-04-13T02:00:43.432231",
     "exception": false,
     "start_time": "2025-04-13T02:00:42.626679",
     "status": "completed"
    },
    "tags": []
   },
   "outputs": [],
   "source": [
    "import email\n",
    "import re\n",
    "\n",
    "import pandas as pd\n",
    "\n",
    "\n",
    "def preprocess_newsgroup_row(data):\n",
    "    # Extract only the subject and body\n",
    "    msg = email.message_from_string(data)\n",
    "    text = f\"{msg['Subject']}\\n\\n{msg.get_payload()}\"\n",
    "    # Strip any remaining email addresses\n",
    "    text = re.sub(r\"[\\w\\.-]+@[\\w\\.-]+\", \"\", text)\n",
    "    # Truncate the text to fit within the input limits\n",
    "    text = text[:40000]\n",
    "\n",
    "    return text\n",
    "\n",
    "\n",
    "def preprocess_newsgroup_data(newsgroup_dataset):\n",
    "    # Put data points into dataframe\n",
    "    df = pd.DataFrame(\n",
    "        {\"Text\": newsgroup_dataset.data, \"Label\": newsgroup_dataset.target}\n",
    "    )\n",
    "    # Clean up the text\n",
    "    df[\"Text\"] = df[\"Text\"].apply(preprocess_newsgroup_row)\n",
    "    # Match label to target name index\n",
    "    df[\"Class Name\"] = df[\"Label\"].map(lambda l: newsgroup_dataset.target_names[l])\n",
    "\n",
    "    return df"
   ]
  },
  {
   "cell_type": "code",
   "execution_count": 8,
   "id": "66a3b9ba",
   "metadata": {
    "execution": {
     "iopub.execute_input": "2025-04-13T02:00:43.450437Z",
     "iopub.status.busy": "2025-04-13T02:00:43.449853Z",
     "iopub.status.idle": "2025-04-13T02:00:47.173364Z",
     "shell.execute_reply": "2025-04-13T02:00:47.172309Z"
    },
    "id": "kvOsUSRWaW4g",
    "papermill": {
     "duration": 3.735079,
     "end_time": "2025-04-13T02:00:47.175615",
     "exception": false,
     "start_time": "2025-04-13T02:00:43.440536",
     "status": "completed"
    },
    "tags": []
   },
   "outputs": [
    {
     "data": {
      "text/html": [
       "<div>\n",
       "<style scoped>\n",
       "    .dataframe tbody tr th:only-of-type {\n",
       "        vertical-align: middle;\n",
       "    }\n",
       "\n",
       "    .dataframe tbody tr th {\n",
       "        vertical-align: top;\n",
       "    }\n",
       "\n",
       "    .dataframe thead th {\n",
       "        text-align: right;\n",
       "    }\n",
       "</style>\n",
       "<table border=\"1\" class=\"dataframe\">\n",
       "  <thead>\n",
       "    <tr style=\"text-align: right;\">\n",
       "      <th></th>\n",
       "      <th>Text</th>\n",
       "      <th>Label</th>\n",
       "      <th>Class Name</th>\n",
       "    </tr>\n",
       "  </thead>\n",
       "  <tbody>\n",
       "    <tr>\n",
       "      <th>0</th>\n",
       "      <td>WHAT car is this!?\\n\\n I was wondering if anyo...</td>\n",
       "      <td>7</td>\n",
       "      <td>rec.autos</td>\n",
       "    </tr>\n",
       "    <tr>\n",
       "      <th>1</th>\n",
       "      <td>SI Clock Poll - Final Call\\n\\nA fair number of...</td>\n",
       "      <td>4</td>\n",
       "      <td>comp.sys.mac.hardware</td>\n",
       "    </tr>\n",
       "    <tr>\n",
       "      <th>2</th>\n",
       "      <td>PB questions...\\n\\nwell folks, my mac plus fin...</td>\n",
       "      <td>4</td>\n",
       "      <td>comp.sys.mac.hardware</td>\n",
       "    </tr>\n",
       "    <tr>\n",
       "      <th>3</th>\n",
       "      <td>Re: Weitek P9000 ?\\n\\nRobert J.C. Kyanko () wr...</td>\n",
       "      <td>1</td>\n",
       "      <td>comp.graphics</td>\n",
       "    </tr>\n",
       "    <tr>\n",
       "      <th>4</th>\n",
       "      <td>Re: Shuttle Launch Question\\n\\nFrom article &lt;&gt;...</td>\n",
       "      <td>14</td>\n",
       "      <td>sci.space</td>\n",
       "    </tr>\n",
       "  </tbody>\n",
       "</table>\n",
       "</div>"
      ],
      "text/plain": [
       "                                                Text  Label  \\\n",
       "0  WHAT car is this!?\\n\\n I was wondering if anyo...      7   \n",
       "1  SI Clock Poll - Final Call\\n\\nA fair number of...      4   \n",
       "2  PB questions...\\n\\nwell folks, my mac plus fin...      4   \n",
       "3  Re: Weitek P9000 ?\\n\\nRobert J.C. Kyanko () wr...      1   \n",
       "4  Re: Shuttle Launch Question\\n\\nFrom article <>...     14   \n",
       "\n",
       "              Class Name  \n",
       "0              rec.autos  \n",
       "1  comp.sys.mac.hardware  \n",
       "2  comp.sys.mac.hardware  \n",
       "3          comp.graphics  \n",
       "4              sci.space  "
      ]
     },
     "execution_count": 8,
     "metadata": {},
     "output_type": "execute_result"
    }
   ],
   "source": [
    "# Apply preprocessing to training and test datasets\n",
    "df_train = preprocess_newsgroup_data(newsgroups_train)\n",
    "df_test = preprocess_newsgroup_data(newsgroups_test)\n",
    "\n",
    "df_train.head()"
   ]
  },
  {
   "cell_type": "markdown",
   "id": "e1dad014",
   "metadata": {
    "id": "XSKcj5WtadaR",
    "papermill": {
     "duration": 0.009623,
     "end_time": "2025-04-13T02:00:47.193741",
     "exception": false,
     "start_time": "2025-04-13T02:00:47.184118",
     "status": "completed"
    },
    "tags": []
   },
   "source": [
    "Now sample the data. You will keep 50 rows for each category for training. Note that this is even fewer than the Keras example, as this technique (parameter-efficient fine-tuning, or PEFT) updates a relatively small number of parameters and does not require training a new model or updating the large model."
   ]
  },
  {
   "cell_type": "code",
   "execution_count": 9,
   "id": "5c3c8173",
   "metadata": {
    "execution": {
     "iopub.execute_input": "2025-04-13T02:00:47.212642Z",
     "iopub.status.busy": "2025-04-13T02:00:47.212209Z",
     "iopub.status.idle": "2025-04-13T02:00:47.254930Z",
     "shell.execute_reply": "2025-04-13T02:00:47.253901Z"
    },
    "id": "0t9Xu6X5akkt",
    "papermill": {
     "duration": 0.055059,
     "end_time": "2025-04-13T02:00:47.257618",
     "exception": false,
     "start_time": "2025-04-13T02:00:47.202559",
     "status": "completed"
    },
    "tags": []
   },
   "outputs": [],
   "source": [
    "def sample_data(df, num_samples, classes_to_keep):\n",
    "    # Sample rows, selecting num_samples of each Label.\n",
    "    df = (\n",
    "        df.groupby(\"Label\")[df.columns]\n",
    "        .apply(lambda x: x.sample(num_samples))\n",
    "        .reset_index(drop=True)\n",
    "    )\n",
    "\n",
    "    df = df[df[\"Class Name\"].str.contains(classes_to_keep)]\n",
    "    df[\"Class Name\"] = df[\"Class Name\"].astype(\"category\")\n",
    "\n",
    "    return df\n",
    "\n",
    "\n",
    "TRAIN_NUM_SAMPLES = 50\n",
    "TEST_NUM_SAMPLES = 10\n",
    "# Keep rec.* and sci.*\n",
    "CLASSES_TO_KEEP = \"^rec|^sci\"\n",
    "\n",
    "df_train = sample_data(df_train, TRAIN_NUM_SAMPLES, CLASSES_TO_KEEP)\n",
    "df_test = sample_data(df_test, TEST_NUM_SAMPLES, CLASSES_TO_KEEP)"
   ]
  },
  {
   "cell_type": "markdown",
   "id": "02a1b0c9",
   "metadata": {
    "papermill": {
     "duration": 0.008017,
     "end_time": "2025-04-13T02:00:47.274062",
     "exception": false,
     "start_time": "2025-04-13T02:00:47.266045",
     "status": "completed"
    },
    "tags": []
   },
   "source": [
    "## Evaluate baseline performance\n",
    "\n",
    "Before you start tuning a model, it's good practice to perform an evaluation on the available models to ensure you can measure how much the tuning helps.\n",
    "\n",
    "First identify a single sample row to use for visual inspection."
   ]
  },
  {
   "cell_type": "code",
   "execution_count": 10,
   "id": "c7fdfa13",
   "metadata": {
    "execution": {
     "iopub.execute_input": "2025-04-13T02:00:47.292565Z",
     "iopub.status.busy": "2025-04-13T02:00:47.292153Z",
     "iopub.status.idle": "2025-04-13T02:00:47.298552Z",
     "shell.execute_reply": "2025-04-13T02:00:47.297460Z"
    },
    "papermill": {
     "duration": 0.018629,
     "end_time": "2025-04-13T02:00:47.301014",
     "exception": false,
     "start_time": "2025-04-13T02:00:47.282385",
     "status": "completed"
    },
    "tags": []
   },
   "outputs": [
    {
     "name": "stdout",
     "output_type": "stream",
     "text": [
      "Need info on 88-89 Bonneville\n",
      "\n",
      "\n",
      " I am a little confused on all of the models of the 88-89 bonnevilles.\n",
      "I have heard of the LE SE LSE SSE SSEI. Could someone tell me the\n",
      "differences are far as features or performance. I am also curious to\n",
      "know what the book value is for prefereably the 89 model. And how much\n",
      "less than book value can you usually get them for. In other words how\n",
      "much are they in demand this time of year. I have heard that the mid-spring\n",
      "early summer is the best time to buy.\n",
      "\n",
      "\t\t\tNeil Gandler\n",
      "\n",
      "---\n",
      "Label: rec.autos\n"
     ]
    }
   ],
   "source": [
    "sample_idx = 0\n",
    "sample_row = preprocess_newsgroup_row(newsgroups_test.data[sample_idx])\n",
    "sample_label = newsgroups_test.target_names[newsgroups_test.target[sample_idx]]\n",
    "\n",
    "print(sample_row)\n",
    "print('---')\n",
    "print('Label:', sample_label)"
   ]
  },
  {
   "cell_type": "markdown",
   "id": "e2fe6d4f",
   "metadata": {
    "papermill": {
     "duration": 0.008344,
     "end_time": "2025-04-13T02:00:47.317937",
     "exception": false,
     "start_time": "2025-04-13T02:00:47.309593",
     "status": "completed"
    },
    "tags": []
   },
   "source": [
    "Passing the text directly in as a prompt does not yield the desired results. The model will attempt to respond to the message."
   ]
  },
  {
   "cell_type": "code",
   "execution_count": 11,
   "id": "4b39e3bb",
   "metadata": {
    "execution": {
     "iopub.execute_input": "2025-04-13T02:00:47.336050Z",
     "iopub.status.busy": "2025-04-13T02:00:47.335667Z",
     "iopub.status.idle": "2025-04-13T02:00:50.950282Z",
     "shell.execute_reply": "2025-04-13T02:00:50.949287Z"
    },
    "papermill": {
     "duration": 3.626611,
     "end_time": "2025-04-13T02:00:50.952790",
     "exception": false,
     "start_time": "2025-04-13T02:00:47.326179",
     "status": "completed"
    },
    "tags": []
   },
   "outputs": [
    {
     "name": "stdout",
     "output_type": "stream",
     "text": [
      "You're right, the 1988-89 Bonneville lineup was a bit confusing! Here's a breakdown of the trims and their differences:\n",
      "\n",
      "**1988-1989 Bonneville Trim Levels:**\n",
      "\n",
      "* **Bonneville:** The base model, often referred to as the \"LE\" or \"Limited Edition.\" It came with standard features like a 3.8L V6 engine, cloth upholstery, and a basic AM/FM radio.\n",
      "* **Bonneville SE:**  \"SE\" stood for \"Special Edition\" and offered some upgrades, including a slightly more powerful 3.8L V6, power steering, and a few cosmetic enhancements.\n",
      "* **Bonneville LSE:** The \"LSE\" was the top-of-the-line trim level, offering luxury features like leather upholstery, power windows and locks, a premium sound system, and sometimes even a sunroof. \n",
      "* **Bonneville SSE:** \"SSE\" stood for \"Sport Sedan Edition,\" and it was the performance-oriented option. It featured a more powerful 3.8L V6 with a higher horsepower rating, sport-tuned suspension, unique wheels, and sometimes a rear spoiler. \n",
      "* **Bonneville SSEi:**  \"SSEi\" was the final iteration of the SSE and added fuel injection to the 3.8L V6, boosting power even further. It was the most powerful and desirable version of the Bonneville.\n",
      "\n",
      "**Book Value and Demand:**\n",
      "\n",
      "It's difficult to give you an exact book value without knowing the specific condition, mileage, and options of the Bonneville you're interested in.  However, you can use online resources like Kelley Blue Book (KBB) or Edmunds to get an estimate based on the car's details.\n",
      "\n",
      "**Here's what you can expect:**\n",
      "\n",
      "* **Spring and Early Summer:**  While it's true that mid-spring to early summer can be a good time to buy cars, the demand for older cars like the 1989 Bonneville isn't typically as seasonal. \n",
      "* **Negotiation:**  You can often negotiate a price below book value, especially if the car has higher mileage or needs some repairs.  \n",
      "* **Demand:**  The demand for older Bonnevilles depends on the condition and trim level. SSEi models, being the most desirable, might command a slightly higher price.  But, overall, the demand for these models is relatively low, giving you some negotiation power.\n",
      "\n",
      "**Things to Consider:**\n",
      "\n",
      "* **Condition:** Carefully inspect the car for any rust, damage, or signs of wear.\n",
      "* **Maintenance Records:**  Ask the seller for any available maintenance records to gauge the car's history and potential future costs.\n",
      "* **Test Drive:**  Always take the car for a test drive to assess its performance, handling, and any potential issues.\n",
      "\n",
      "**Remember:**  Be patient and do your research before making any purchase.  The best deals often come to those who are willing to shop around and negotiate. \n",
      "\n"
     ]
    }
   ],
   "source": [
    "response = client.models.generate_content(\n",
    "    model=\"gemini-1.5-flash-001\", contents=sample_row)\n",
    "print(response.text)"
   ]
  },
  {
   "cell_type": "markdown",
   "id": "248eb611",
   "metadata": {
    "papermill": {
     "duration": 0.007995,
     "end_time": "2025-04-13T02:00:50.969336",
     "exception": false,
     "start_time": "2025-04-13T02:00:50.961341",
     "status": "completed"
    },
    "tags": []
   },
   "source": [
    "You can use the prompt engineering techniques you have learned this week to induce the model to perform the desired task. Try some of your own ideas and see what is effective, or check out the following cells for different approaches. Note that they have different levels of effectiveness!"
   ]
  },
  {
   "cell_type": "code",
   "execution_count": 12,
   "id": "edcfcd64",
   "metadata": {
    "execution": {
     "iopub.execute_input": "2025-04-13T02:00:50.988392Z",
     "iopub.status.busy": "2025-04-13T02:00:50.987410Z",
     "iopub.status.idle": "2025-04-13T02:00:51.671749Z",
     "shell.execute_reply": "2025-04-13T02:00:51.670437Z"
    },
    "papermill": {
     "duration": 0.696291,
     "end_time": "2025-04-13T02:00:51.674026",
     "exception": false,
     "start_time": "2025-04-13T02:00:50.977735",
     "status": "completed"
    },
    "tags": []
   },
   "outputs": [
    {
     "name": "stdout",
     "output_type": "stream",
     "text": [
      "Based on the content of the message, it's most likely from a **Buick or Pontiac-specific newsgroup**.\n",
      "\n",
      "Here's why:\n",
      "\n",
      "* **The car model:** The message specifically mentions the 1988-1989 Buick Bonneville, indicating a focus on Buick vehicles.\n",
      "* **The terminology:**  The message refers to specific trim levels like LE, SE, LSE, SSE, and SSEi.  This type of detailed information is common in car enthusiast forums or newsgroups dedicated to specific models. \n",
      "* **The question:** The question about book value and negotiation strategies is typical of discussions in car buying forums.\n",
      "\n",
      "**Possible newsgroups:**\n",
      "\n",
      "* **alt.autos.buick**\n",
      "* **rec.autos.buick**\n",
      "* **alt.autos.pontiac**\n",
      "* **rec.autos.pontiac**\n",
      "\n",
      "These groups would likely have members knowledgeable about the different Bonneville models and their values. \n",
      "\n"
     ]
    }
   ],
   "source": [
    "# Ask the model directly in a zero-shot prompt.\n",
    "\n",
    "prompt = \"From what newsgroup does the following message originate?\"\n",
    "baseline_response = client.models.generate_content(\n",
    "    model=\"gemini-1.5-flash-001\",\n",
    "    contents=[prompt, sample_row])\n",
    "print(baseline_response.text)"
   ]
  },
  {
   "cell_type": "markdown",
   "id": "94638ff7",
   "metadata": {
    "papermill": {
     "duration": 0.008597,
     "end_time": "2025-04-13T02:00:51.691860",
     "exception": false,
     "start_time": "2025-04-13T02:00:51.683263",
     "status": "completed"
    },
    "tags": []
   },
   "source": [
    "This technique still produces quite a verbose response. You could try and parse out the relevant text, or refine the prompt even further."
   ]
  },
  {
   "cell_type": "code",
   "execution_count": 13,
   "id": "35532c2a",
   "metadata": {
    "execution": {
     "iopub.execute_input": "2025-04-13T02:00:51.710521Z",
     "iopub.status.busy": "2025-04-13T02:00:51.710071Z",
     "iopub.status.idle": "2025-04-13T02:00:52.377386Z",
     "shell.execute_reply": "2025-04-13T02:00:52.376071Z"
    },
    "papermill": {
     "duration": 0.679294,
     "end_time": "2025-04-13T02:00:52.379697",
     "exception": false,
     "start_time": "2025-04-13T02:00:51.700403",
     "status": "completed"
    },
    "tags": []
   },
   "outputs": [
    {
     "name": "stdout",
     "output_type": "stream",
     "text": [
      "rec.autos.misc\n",
      "\n",
      "Incorrect.\n"
     ]
    }
   ],
   "source": [
    "from google.api_core import retry\n",
    "\n",
    "# You can use a system instruction to do more direct prompting, and get a\n",
    "# more succinct answer.\n",
    "\n",
    "system_instruct = \"\"\"\n",
    "You are a classification service. You will be passed input that represents\n",
    "a newsgroup post and you must respond with the newsgroup from which the post\n",
    "originates.\n",
    "\"\"\"\n",
    "\n",
    "# Define a helper to retry when per-minute quota is reached.\n",
    "is_retriable = lambda e: (isinstance(e, genai.errors.APIError) and e.code in {429, 503})\n",
    "\n",
    "# If you want to evaluate your own technique, replace this body of this function\n",
    "# with your model, prompt and other code and return the predicted answer.\n",
    "@retry.Retry(predicate=is_retriable)\n",
    "def predict_label(post: str) -> str:\n",
    "    response = client.models.generate_content(\n",
    "        model=\"gemini-1.5-flash-001\",\n",
    "        config=types.GenerateContentConfig(\n",
    "            system_instruction=system_instruct),\n",
    "        contents=post)\n",
    "\n",
    "    rc = response.candidates[0]\n",
    "\n",
    "    # Any errors, filters, recitation, etc we can mark as a general error\n",
    "    if rc.finish_reason.name != \"STOP\":\n",
    "        return \"(error)\"\n",
    "    else:\n",
    "        # Clean up the response.\n",
    "        return response.text.strip()\n",
    "\n",
    "\n",
    "prediction = predict_label(sample_row)\n",
    "\n",
    "print(prediction)\n",
    "print()\n",
    "print(\"Correct!\" if prediction == sample_label else \"Incorrect.\")"
   ]
  },
  {
   "cell_type": "markdown",
   "id": "108d0522",
   "metadata": {
    "papermill": {
     "duration": 0.008946,
     "end_time": "2025-04-13T02:00:52.397321",
     "exception": false,
     "start_time": "2025-04-13T02:00:52.388375",
     "status": "completed"
    },
    "tags": []
   },
   "source": [
    "Now run a short evaluation using the function defined above. The test set is further sampled to ensure the experiment runs smoothly on the API's free tier. In practice you would evaluate over the whole set."
   ]
  },
  {
   "cell_type": "code",
   "execution_count": 17,
   "id": "3276f6f4",
   "metadata": {},
   "outputs": [
    {
     "name": "stdout",
     "output_type": "stream",
     "text": [
      "The autoreload extension is already loaded. To reload it, use:\n",
      "  %reload_ext autoreload\n"
     ]
    }
   ],
   "source": [
    "%load_ext autoreload\n",
    "%autoreload 2"
   ]
  },
  {
   "cell_type": "code",
   "execution_count": 18,
   "id": "fbd1f85a",
   "metadata": {
    "execution": {
     "iopub.execute_input": "2025-04-13T02:00:52.416105Z",
     "iopub.status.busy": "2025-04-13T02:00:52.415701Z",
     "iopub.status.idle": "2025-04-13T02:02:06.070781Z",
     "shell.execute_reply": "2025-04-13T02:02:06.069631Z"
    },
    "papermill": {
     "duration": 73.666779,
     "end_time": "2025-04-13T02:02:06.072696",
     "exception": false,
     "start_time": "2025-04-13T02:00:52.405917",
     "status": "completed"
    },
    "tags": []
   },
   "outputs": [
    {
     "data": {
      "text/html": [
       "<pre style=\"white-space:pre;overflow-x:auto;line-height:normal;font-family:Menlo,'DejaVu Sans Mono',consolas,'Courier New',monospace\">/Users/pparava1/git-ws/learning/gcp/google-gemini-gen-ai-samples/.venv/lib/python3.12/site-packages/rich/live.py:23\n",
       "1: UserWarning: install \"ipywidgets\" for Jupyter support\n",
       "  warnings.warn('install \"ipywidgets\" for Jupyter support')\n",
       "</pre>\n"
      ],
      "text/plain": [
       "/Users/pparava1/git-ws/learning/gcp/google-gemini-gen-ai-samples/.venv/lib/python3.12/site-packages/rich/live.py:23\n",
       "1: UserWarning: install \"ipywidgets\" for Jupyter support\n",
       "  warnings.warn('install \"ipywidgets\" for Jupyter support')\n"
      ]
     },
     "metadata": {},
     "output_type": "display_data"
    },
    {
     "data": {
      "text/html": [
       "<pre style=\"white-space:pre;overflow-x:auto;line-height:normal;font-family:Menlo,'DejaVu Sans Mono',consolas,'Courier New',monospace\"></pre>\n"
      ],
      "text/plain": []
     },
     "metadata": {},
     "output_type": "display_data"
    },
    {
     "name": "stdout",
     "output_type": "stream",
     "text": [
      "Accuracy: 18.75%\n"
     ]
    }
   ],
   "source": [
    "import tqdm\n",
    "from tqdm.rich import tqdm as tqdmr\n",
    "import warnings\n",
    "\n",
    "# Enable tqdm features on Pandas.\n",
    "tqdmr.pandas()\n",
    "\n",
    "# But suppress the experimental warning\n",
    "warnings.filterwarnings(\"ignore\", category=tqdm.TqdmExperimentalWarning)\n",
    "\n",
    "\n",
    "# Further sample the test data to be mindful of the free-tier quota.\n",
    "df_baseline_eval = sample_data(df_test, 2, '.*')\n",
    "\n",
    "# Make predictions using the sampled data.\n",
    "df_baseline_eval['Prediction'] = df_baseline_eval['Text'].progress_apply(predict_label)\n",
    "\n",
    "# And calculate the accuracy.\n",
    "accuracy = (df_baseline_eval[\"Class Name\"] == df_baseline_eval[\"Prediction\"]).sum() / len(df_baseline_eval)\n",
    "print(f\"Accuracy: {accuracy:.2%}\")"
   ]
  },
  {
   "cell_type": "markdown",
   "id": "dbcefbcd",
   "metadata": {
    "papermill": {
     "duration": 0.012399,
     "end_time": "2025-04-13T02:02:06.099606",
     "exception": false,
     "start_time": "2025-04-13T02:02:06.087207",
     "status": "completed"
    },
    "tags": []
   },
   "source": [
    "Now take a look at the dataframe to compare the predictions with the labels."
   ]
  },
  {
   "cell_type": "code",
   "execution_count": 19,
   "id": "13c431a5",
   "metadata": {
    "execution": {
     "iopub.execute_input": "2025-04-13T02:02:08.156016Z",
     "iopub.status.busy": "2025-04-13T02:02:08.155724Z",
     "iopub.status.idle": "2025-04-13T02:02:08.167251Z",
     "shell.execute_reply": "2025-04-13T02:02:08.166209Z"
    },
    "papermill": {
     "duration": 2.055805,
     "end_time": "2025-04-13T02:02:08.169065",
     "exception": false,
     "start_time": "2025-04-13T02:02:06.113260",
     "status": "completed"
    },
    "tags": []
   },
   "outputs": [
    {
     "data": {
      "text/html": [
       "<div>\n",
       "<style scoped>\n",
       "    .dataframe tbody tr th:only-of-type {\n",
       "        vertical-align: middle;\n",
       "    }\n",
       "\n",
       "    .dataframe tbody tr th {\n",
       "        vertical-align: top;\n",
       "    }\n",
       "\n",
       "    .dataframe thead th {\n",
       "        text-align: right;\n",
       "    }\n",
       "</style>\n",
       "<table border=\"1\" class=\"dataframe\">\n",
       "  <thead>\n",
       "    <tr style=\"text-align: right;\">\n",
       "      <th></th>\n",
       "      <th>Text</th>\n",
       "      <th>Label</th>\n",
       "      <th>Class Name</th>\n",
       "      <th>Prediction</th>\n",
       "    </tr>\n",
       "  </thead>\n",
       "  <tbody>\n",
       "    <tr>\n",
       "      <th>0</th>\n",
       "      <td>Re: New '94 Talon?????\\n\\n\\nI would also be in...</td>\n",
       "      <td>7</td>\n",
       "      <td>rec.autos</td>\n",
       "      <td>rec.autos.sports-cars</td>\n",
       "    </tr>\n",
       "    <tr>\n",
       "      <th>1</th>\n",
       "      <td>Info about Audi 90 (used)\\n\\nI am thinking of ...</td>\n",
       "      <td>7</td>\n",
       "      <td>rec.autos</td>\n",
       "      <td>rec.autos.cars</td>\n",
       "    </tr>\n",
       "    <tr>\n",
       "      <th>2</th>\n",
       "      <td>DoD Pins...NOT!\\n\\nHi there kids and kidlets.....</td>\n",
       "      <td>8</td>\n",
       "      <td>rec.motorcycles</td>\n",
       "      <td>rec.motorcycles</td>\n",
       "    </tr>\n",
       "    <tr>\n",
       "      <th>3</th>\n",
       "      <td>Re: Boom! Dog attack!\\n\\nIn article &lt;&gt;, \\n(nei...</td>\n",
       "      <td>8</td>\n",
       "      <td>rec.motorcycles</td>\n",
       "      <td>rec.motorcycles</td>\n",
       "    </tr>\n",
       "    <tr>\n",
       "      <th>4</th>\n",
       "      <td>Re: BEST FIRST BASEMEN...\\n\\nIn article &lt;&gt;,  w...</td>\n",
       "      <td>9</td>\n",
       "      <td>rec.sport.baseball</td>\n",
       "      <td>rec.sport.baseball</td>\n",
       "    </tr>\n",
       "    <tr>\n",
       "      <th>5</th>\n",
       "      <td>Chicago visit\\n\\n\\nI am planning a weekend in ...</td>\n",
       "      <td>9</td>\n",
       "      <td>rec.sport.baseball</td>\n",
       "      <td>rec.sport.baseball.misc</td>\n",
       "    </tr>\n",
       "    <tr>\n",
       "      <th>6</th>\n",
       "      <td>Re: Leafs Crushed Again; Blues Win; Flames Bac...</td>\n",
       "      <td>10</td>\n",
       "      <td>rec.sport.hockey</td>\n",
       "      <td>rec.sports.hockey.nhl</td>\n",
       "    </tr>\n",
       "    <tr>\n",
       "      <th>7</th>\n",
       "      <td>Re: Trivia question\\n\\nIn article &lt;&gt;,  (Carol ...</td>\n",
       "      <td>10</td>\n",
       "      <td>rec.sport.hockey</td>\n",
       "      <td>rec.sports.hockey</td>\n",
       "    </tr>\n",
       "    <tr>\n",
       "      <th>8</th>\n",
       "      <td>Jerry Berman on pseudonymous privacy\\n\\nHello ...</td>\n",
       "      <td>11</td>\n",
       "      <td>sci.crypt</td>\n",
       "      <td>comp.org.eff.talk</td>\n",
       "    </tr>\n",
       "    <tr>\n",
       "      <th>9</th>\n",
       "      <td>How to make this illuminating thing?\\n\\n\\nIn s...</td>\n",
       "      <td>11</td>\n",
       "      <td>sci.crypt</td>\n",
       "      <td>rec.crafts.misc</td>\n",
       "    </tr>\n",
       "    <tr>\n",
       "      <th>10</th>\n",
       "      <td>Re: How universal are phones these days?\\n\\n (...</td>\n",
       "      <td>12</td>\n",
       "      <td>sci.electronics</td>\n",
       "      <td>rec.telephony</td>\n",
       "    </tr>\n",
       "    <tr>\n",
       "      <th>11</th>\n",
       "      <td>Re: Need Info on DSP project\\n\\nThere is a fil...</td>\n",
       "      <td>12</td>\n",
       "      <td>sci.electronics</td>\n",
       "      <td>comp.dsp</td>\n",
       "    </tr>\n",
       "    <tr>\n",
       "      <th>12</th>\n",
       "      <td>tick fever (aka rocky mtn spotted)\\n\\nAny rock...</td>\n",
       "      <td>13</td>\n",
       "      <td>sci.med</td>\n",
       "      <td>alt.med.diseases</td>\n",
       "    </tr>\n",
       "    <tr>\n",
       "      <th>13</th>\n",
       "      <td>Re: Thermoscan ear thermometer\\n\\nIn article &lt;...</td>\n",
       "      <td>13</td>\n",
       "      <td>sci.med</td>\n",
       "      <td>alt.med.homeopathy</td>\n",
       "    </tr>\n",
       "    <tr>\n",
       "      <th>14</th>\n",
       "      <td>Re: Vandalizing the sky.\\n\\nIn &lt;&gt;  (George F. ...</td>\n",
       "      <td>14</td>\n",
       "      <td>sci.space</td>\n",
       "      <td>misc.consumers.gadgets</td>\n",
       "    </tr>\n",
       "    <tr>\n",
       "      <th>15</th>\n",
       "      <td>Why not give $1 billion to first year-long moo...</td>\n",
       "      <td>14</td>\n",
       "      <td>sci.space</td>\n",
       "      <td>alt.space.exploration</td>\n",
       "    </tr>\n",
       "  </tbody>\n",
       "</table>\n",
       "</div>"
      ],
      "text/plain": [
       "                                                 Text  Label  \\\n",
       "0   Re: New '94 Talon?????\\n\\n\\nI would also be in...      7   \n",
       "1   Info about Audi 90 (used)\\n\\nI am thinking of ...      7   \n",
       "2   DoD Pins...NOT!\\n\\nHi there kids and kidlets.....      8   \n",
       "3   Re: Boom! Dog attack!\\n\\nIn article <>, \\n(nei...      8   \n",
       "4   Re: BEST FIRST BASEMEN...\\n\\nIn article <>,  w...      9   \n",
       "5   Chicago visit\\n\\n\\nI am planning a weekend in ...      9   \n",
       "6   Re: Leafs Crushed Again; Blues Win; Flames Bac...     10   \n",
       "7   Re: Trivia question\\n\\nIn article <>,  (Carol ...     10   \n",
       "8   Jerry Berman on pseudonymous privacy\\n\\nHello ...     11   \n",
       "9   How to make this illuminating thing?\\n\\n\\nIn s...     11   \n",
       "10  Re: How universal are phones these days?\\n\\n (...     12   \n",
       "11  Re: Need Info on DSP project\\n\\nThere is a fil...     12   \n",
       "12  tick fever (aka rocky mtn spotted)\\n\\nAny rock...     13   \n",
       "13  Re: Thermoscan ear thermometer\\n\\nIn article <...     13   \n",
       "14  Re: Vandalizing the sky.\\n\\nIn <>  (George F. ...     14   \n",
       "15  Why not give $1 billion to first year-long moo...     14   \n",
       "\n",
       "            Class Name               Prediction  \n",
       "0            rec.autos    rec.autos.sports-cars  \n",
       "1            rec.autos           rec.autos.cars  \n",
       "2      rec.motorcycles          rec.motorcycles  \n",
       "3      rec.motorcycles          rec.motorcycles  \n",
       "4   rec.sport.baseball       rec.sport.baseball  \n",
       "5   rec.sport.baseball  rec.sport.baseball.misc  \n",
       "6     rec.sport.hockey    rec.sports.hockey.nhl  \n",
       "7     rec.sport.hockey        rec.sports.hockey  \n",
       "8            sci.crypt        comp.org.eff.talk  \n",
       "9            sci.crypt          rec.crafts.misc  \n",
       "10     sci.electronics            rec.telephony  \n",
       "11     sci.electronics                 comp.dsp  \n",
       "12             sci.med         alt.med.diseases  \n",
       "13             sci.med       alt.med.homeopathy  \n",
       "14           sci.space   misc.consumers.gadgets  \n",
       "15           sci.space    alt.space.exploration  "
      ]
     },
     "execution_count": 19,
     "metadata": {},
     "output_type": "execute_result"
    }
   ],
   "source": [
    "df_baseline_eval"
   ]
  },
  {
   "cell_type": "markdown",
   "id": "56d94012",
   "metadata": {
    "id": "Ok7ugrLzcghX",
    "papermill": {
     "duration": 0.008732,
     "end_time": "2025-04-13T02:02:08.187147",
     "exception": false,
     "start_time": "2025-04-13T02:02:08.178415",
     "status": "completed"
    },
    "tags": []
   },
   "source": [
    "## Tune a custom model\n",
    "\n",
    "In this example you'll use tuning to create a model that requires no prompting or system instructions and outputs succinct text from the classes you provide in the training data.\n",
    "\n",
    "The data contains both input text (the processed posts) and output text (the category, or newsgroup), that you can use to start tuning a model.\n",
    "\n",
    "When calling `tune()`, you can specify model tuning hyperparameters too:\n",
    " - `epoch_count`: defines how many times to loop through the data,\n",
    " - `batch_size`: defines how many rows to process in a single step, and\n",
    " - `learning_rate`: defines the scaling factor for updating model weights at each step.\n",
    "\n",
    "You can also choose to omit them and use the defaults. [Learn more](https://developers.google.com/machine-learning/crash-course/linear-regression/hyperparameters) about these parameters and how they work. For this example these parameters were selected by running some tuning jobs and selecting parameters that converged efficiently.\n",
    "\n",
    "This example will start a new tuning job, but only if one does not already exist. This allows you to leave this codelab and come back later - re-running this step will find your last model."
   ]
  },
  {
   "cell_type": "code",
   "execution_count": 20,
   "id": "8d573559",
   "metadata": {
    "execution": {
     "iopub.execute_input": "2025-04-13T02:02:08.207561Z",
     "iopub.status.busy": "2025-04-13T02:02:08.206687Z",
     "iopub.status.idle": "2025-04-13T02:02:08.456700Z",
     "shell.execute_reply": "2025-04-13T02:02:08.455556Z"
    },
    "id": "pWOZlspfY8dV",
    "papermill": {
     "duration": 0.262627,
     "end_time": "2025-04-13T02:02:08.459041",
     "exception": false,
     "start_time": "2025-04-13T02:02:08.196414",
     "status": "completed"
    },
    "tags": []
   },
   "outputs": [
    {
     "name": "stdout",
     "output_type": "stream",
     "text": [
      "Found existing tuned model to reuse.\n",
      "tunedModels/newsgroup-classification-model-hcmx60bbe\n"
     ]
    }
   ],
   "source": [
    "from collections.abc import Iterable\n",
    "import random\n",
    "\n",
    "\n",
    "# Convert the data frame into a dataset suitable for tuning.\n",
    "input_data = {'examples': \n",
    "    df_train[['Text', 'Class Name']]\n",
    "      .rename(columns={'Text': 'textInput', 'Class Name': 'output'})\n",
    "      .to_dict(orient='records')\n",
    " }\n",
    "\n",
    "# If you are re-running this lab, add your model_id here.\n",
    "model_id = None\n",
    "\n",
    "# Or try and find a recent tuning job.\n",
    "if not model_id:\n",
    "  queued_model = None\n",
    "  # Newest models first.\n",
    "  for m in reversed(client.tunings.list()):\n",
    "    # Only look at newsgroup classification models.\n",
    "    if m.name.startswith('tunedModels/newsgroup-classification-model'):\n",
    "      # If there is a completed model, use the first (newest) one.\n",
    "      if m.state.name == 'JOB_STATE_SUCCEEDED':\n",
    "        model_id = m.name\n",
    "        print('Found existing tuned model to reuse.')\n",
    "        break\n",
    "\n",
    "      elif m.state.name == 'JOB_STATE_RUNNING' and not queued_model:\n",
    "        # If there's a model still queued, remember the most recent one.\n",
    "        queued_model = m.name\n",
    "  else:\n",
    "    if queued_model:\n",
    "      model_id = queued_model\n",
    "      print('Found queued model, still waiting.')\n",
    "\n",
    "\n",
    "# Upload the training data and queue the tuning job.\n",
    "if not model_id:\n",
    "    tuning_op = client.tunings.tune(\n",
    "        base_model=\"models/gemini-1.5-flash-001-tuning\",\n",
    "        training_dataset=input_data,\n",
    "        config=types.CreateTuningJobConfig(\n",
    "            tuned_model_display_name=\"Newsgroup classification model\",\n",
    "            batch_size=16,\n",
    "            epoch_count=2,\n",
    "        ),\n",
    "    )\n",
    "\n",
    "    print(tuning_op.state)\n",
    "    model_id = tuning_op.name\n",
    "\n",
    "print(model_id)"
   ]
  },
  {
   "cell_type": "markdown",
   "id": "5081b45a",
   "metadata": {
    "id": "NQ3YZ2MBubCY",
    "papermill": {
     "duration": 0.008962,
     "end_time": "2025-04-13T02:02:08.477301",
     "exception": false,
     "start_time": "2025-04-13T02:02:08.468339",
     "status": "completed"
    },
    "tags": []
   },
   "source": [
    "This has created a tuning job that will run in the background. To inspect the progress of the tuning job, run this cell to plot the current status and loss curve. Once the status reaches `ACTIVE`, tuning is complete and the model is ready to use.\n",
    "\n",
    "Tuning jobs are queued, so it may look like no training steps have been taken initially but it will progress. Tuning can take anywhere from a few minutes to multiple hours, depending on factors like your dataset size and how busy the tuning infrastrature is. Why not treat yourself to a nice cup of tea while you wait, or come and say \"Hi!\" in the group [Discord](https://discord.com/invite/kaggle).\n",
    "\n",
    "It is safe to stop this cell at any point. It will not stop the tuning job.\n",
    "\n",
    "**IMPORTANT**: Due to the high volume of users doing this course, tuning jobs may be queued for many hours. Take a note of your tuned model ID above (`tunedModels/...`) so you can come back to it tomorrow. In the meantime, check out the [Search grounding](https://www.kaggle.com/code/markishere/day-4-google-search-grounding/) codelab. If you want to try tuning a local LLM, check out [the fine-tuning guides for tuning a Gemma model](https://ai.google.dev/gemma/docs/tune)."
   ]
  },
  {
   "cell_type": "code",
   "execution_count": 21,
   "id": "02b6d992",
   "metadata": {
    "execution": {
     "iopub.execute_input": "2025-04-13T02:02:08.497685Z",
     "iopub.status.busy": "2025-04-13T02:02:08.497029Z",
     "iopub.status.idle": "2025-04-13T02:02:09.509169Z",
     "shell.execute_reply": "2025-04-13T02:02:09.508109Z"
    },
    "id": "c4ef5f13692d",
    "papermill": {
     "duration": 1.025079,
     "end_time": "2025-04-13T02:02:09.511535",
     "exception": false,
     "start_time": "2025-04-13T02:02:08.486456",
     "status": "completed"
    },
    "tags": []
   },
   "outputs": [
    {
     "name": "stdout",
     "output_type": "stream",
     "text": [
      "Done! The model state is: JOB_STATE_SUCCEEDED\n"
     ]
    }
   ],
   "source": [
    "import datetime\n",
    "import time\n",
    "\n",
    "\n",
    "MAX_WAIT = datetime.timedelta(minutes=10)\n",
    "\n",
    "while not (tuned_model := client.tunings.get(name=model_id)).has_ended:\n",
    "\n",
    "    print(tuned_model.state)\n",
    "    time.sleep(60)\n",
    "\n",
    "    # Don't wait too long. Use a public model if this is going to take a while.\n",
    "    if datetime.datetime.now(datetime.timezone.utc) - tuned_model.create_time > MAX_WAIT:\n",
    "        print(\"Taking a shortcut, using a previously prepared model.\")\n",
    "        model_id = \"tunedModels/newsgroup-classification-model-ltenbi1b\"\n",
    "        tuned_model = client.tunings.get(name=model_id)\n",
    "        break\n",
    "\n",
    "\n",
    "print(f\"Done! The model state is: {tuned_model.state.name}\")\n",
    "\n",
    "if not tuned_model.has_succeeded and tuned_model.error:\n",
    "    print(\"Error:\", tuned_model.error)"
   ]
  },
  {
   "cell_type": "markdown",
   "id": "3b3eacd8",
   "metadata": {
    "id": "9-qiIdK4u80z",
    "papermill": {
     "duration": 0.009077,
     "end_time": "2025-04-13T02:02:09.530276",
     "exception": false,
     "start_time": "2025-04-13T02:02:09.521199",
     "status": "completed"
    },
    "tags": []
   },
   "source": [
    "## Use the new model\n",
    "\n",
    "Now that you have a tuned model, try it out with custom data. You use the same API as a normal Gemini API interaction, but you specify your new model as the model name, which will start with `tunedModels/`."
   ]
  },
  {
   "cell_type": "code",
   "execution_count": 23,
   "id": "dae0e607",
   "metadata": {
    "execution": {
     "iopub.execute_input": "2025-04-13T02:02:09.550888Z",
     "iopub.status.busy": "2025-04-13T02:02:09.550425Z",
     "iopub.status.idle": "2025-04-13T02:02:10.041278Z",
     "shell.execute_reply": "2025-04-13T02:02:10.040250Z"
    },
    "id": "hyO2-MXLvM6a",
    "papermill": {
     "duration": 0.503816,
     "end_time": "2025-04-13T02:02:10.043600",
     "exception": false,
     "start_time": "2025-04-13T02:02:09.539784",
     "status": "completed"
    },
    "tags": []
   },
   "outputs": [
    {
     "name": "stdout",
     "output_type": "stream",
     "text": [
      "sci.space\n"
     ]
    }
   ],
   "source": [
    "new_text = \"\"\"\n",
    "First-timer looking to get out of here.\n",
    "\n",
    "Hi, I'm writing about my interest in traveling to the outer limits!\n",
    "\n",
    "What kind of craft can I buy? What is easiest to access from this 3rd rock?\n",
    "\n",
    "Let me know how to do that please.\n",
    "\"\"\"\n",
    "\n",
    "response = client.models.generate_content(\n",
    "    model=model_id, contents=new_text)\n",
    "\n",
    "print(response.text)"
   ]
  },
  {
   "cell_type": "markdown",
   "id": "c2ed9502",
   "metadata": {
    "id": "xajLek9DySH_",
    "papermill": {
     "duration": 0.008986,
     "end_time": "2025-04-13T02:02:10.062282",
     "exception": false,
     "start_time": "2025-04-13T02:02:10.053296",
     "status": "completed"
    },
    "tags": []
   },
   "source": [
    "### Evaluation\n",
    "\n",
    "You can see that the model outputs labels that correspond to those in the training data, and without any system instructions or prompting, which is already a great improvement. Now see how well it performs on the test set.\n",
    "\n",
    "Note that there is no parallelism in this example; classifying the test sub-set will take a few minutes."
   ]
  },
  {
   "cell_type": "code",
   "execution_count": 24,
   "id": "73c7170c",
   "metadata": {
    "execution": {
     "iopub.execute_input": "2025-04-13T02:02:10.083446Z",
     "iopub.status.busy": "2025-04-13T02:02:10.082416Z",
     "iopub.status.idle": "2025-04-13T02:04:31.592781Z",
     "shell.execute_reply": "2025-04-13T02:04:31.591637Z"
    },
    "id": "6T2Y3ZApvbMw",
    "papermill": {
     "duration": 141.524083,
     "end_time": "2025-04-13T02:04:31.595857",
     "exception": false,
     "start_time": "2025-04-13T02:02:10.071774",
     "status": "completed"
    },
    "tags": []
   },
   "outputs": [
    {
     "data": {
      "text/html": [
       "<pre style=\"white-space:pre;overflow-x:auto;line-height:normal;font-family:Menlo,'DejaVu Sans Mono',consolas,'Courier New',monospace\">/Users/pparava1/git-ws/learning/gcp/google-gemini-gen-ai-samples/.venv/lib/python3.12/site-packages/rich/live.py:23\n",
       "1: UserWarning: install \"ipywidgets\" for Jupyter support\n",
       "  warnings.warn('install \"ipywidgets\" for Jupyter support')\n",
       "</pre>\n"
      ],
      "text/plain": [
       "/Users/pparava1/git-ws/learning/gcp/google-gemini-gen-ai-samples/.venv/lib/python3.12/site-packages/rich/live.py:23\n",
       "1: UserWarning: install \"ipywidgets\" for Jupyter support\n",
       "  warnings.warn('install \"ipywidgets\" for Jupyter support')\n"
      ]
     },
     "metadata": {},
     "output_type": "display_data"
    },
    {
     "data": {
      "text/html": [
       "<pre style=\"white-space:pre;overflow-x:auto;line-height:normal;font-family:Menlo,'DejaVu Sans Mono',consolas,'Courier New',monospace\"></pre>\n"
      ],
      "text/plain": []
     },
     "metadata": {},
     "output_type": "display_data"
    },
    {
     "name": "stdout",
     "output_type": "stream",
     "text": [
      "Accuracy: 93.75%\n"
     ]
    }
   ],
   "source": [
    "@retry.Retry(predicate=is_retriable)\n",
    "def classify_text(text: str) -> str:\n",
    "    \"\"\"Classify the provided text into a known newsgroup.\"\"\"\n",
    "    response = client.models.generate_content(\n",
    "        model=model_id, contents=text)\n",
    "    rc = response.candidates[0]\n",
    "\n",
    "    # Any errors, filters, recitation, etc we can mark as a general error\n",
    "    if rc.finish_reason.name != \"STOP\":\n",
    "        return \"(error)\"\n",
    "    else:\n",
    "        return rc.content.parts[0].text\n",
    "\n",
    "\n",
    "# The sampling here is just to minimise your quota usage. If you can, you should\n",
    "# evaluate the whole test set with `df_model_eval = df_test.copy()`.\n",
    "df_model_eval = sample_data(df_test, 4, '.*')\n",
    "\n",
    "df_model_eval[\"Prediction\"] = df_model_eval[\"Text\"].progress_apply(classify_text)\n",
    "\n",
    "accuracy = (df_model_eval[\"Class Name\"] == df_model_eval[\"Prediction\"]).sum() / len(df_model_eval)\n",
    "print(f\"Accuracy: {accuracy:.2%}\")"
   ]
  },
  {
   "cell_type": "markdown",
   "id": "3142e738",
   "metadata": {
    "papermill": {
     "duration": 0.014104,
     "end_time": "2025-04-13T02:04:31.626106",
     "exception": false,
     "start_time": "2025-04-13T02:04:31.612002",
     "status": "completed"
    },
    "tags": []
   },
   "source": [
    "## Compare token usage\n",
    "\n",
    "AI Studio and the Gemini API provide model tuning at no cost, however normal limits and charges apply for *use* of a tuned model.\n",
    "\n",
    "The size of the input prompt and other generation config like system instructions, as well as the number of generated output tokens, all contribute to the overall cost of a request."
   ]
  },
  {
   "cell_type": "code",
   "execution_count": 25,
   "id": "9ae3b72d",
   "metadata": {
    "execution": {
     "iopub.execute_input": "2025-04-13T02:04:35.702387Z",
     "iopub.status.busy": "2025-04-13T02:04:35.702116Z",
     "iopub.status.idle": "2025-04-13T02:04:35.794067Z",
     "shell.execute_reply": "2025-04-13T02:04:35.792968Z"
    },
    "papermill": {
     "duration": 4.155714,
     "end_time": "2025-04-13T02:04:35.796396",
     "exception": false,
     "start_time": "2025-04-13T02:04:31.640682",
     "status": "completed"
    },
    "tags": []
   },
   "outputs": [
    {
     "name": "stdout",
     "output_type": "stream",
     "text": [
      "System instructed baseline model: 172 (input)\n",
      "Tuned model: 136 (input)\n",
      "Token savings: 26.47%\n"
     ]
    }
   ],
   "source": [
    "# Calculate the *input* cost of the baseline model with system instructions.\n",
    "sysint_tokens = client.models.count_tokens(\n",
    "    model='gemini-1.5-flash-001', contents=[system_instruct, sample_row]\n",
    ").total_tokens\n",
    "print(f'System instructed baseline model: {sysint_tokens} (input)')\n",
    "\n",
    "# Calculate the input cost of the tuned model.\n",
    "tuned_tokens = client.models.count_tokens(model=tuned_model.base_model, contents=sample_row).total_tokens\n",
    "print(f'Tuned model: {tuned_tokens} (input)')\n",
    "\n",
    "savings = (sysint_tokens - tuned_tokens) / tuned_tokens\n",
    "print(f'Token savings: {savings:.2%}')  # Note that this is only n=1."
   ]
  },
  {
   "cell_type": "markdown",
   "id": "0091a687",
   "metadata": {
    "papermill": {
     "duration": 0.011443,
     "end_time": "2025-04-13T02:04:35.818572",
     "exception": false,
     "start_time": "2025-04-13T02:04:35.807129",
     "status": "completed"
    },
    "tags": []
   },
   "source": [
    "The earlier verbose model also produced more output tokens than needed for this task."
   ]
  },
  {
   "cell_type": "code",
   "execution_count": 26,
   "id": "ec008937",
   "metadata": {
    "execution": {
     "iopub.execute_input": "2025-04-13T02:04:35.840786Z",
     "iopub.status.busy": "2025-04-13T02:04:35.840003Z",
     "iopub.status.idle": "2025-04-13T02:04:36.293338Z",
     "shell.execute_reply": "2025-04-13T02:04:36.292046Z"
    },
    "papermill": {
     "duration": 0.466854,
     "end_time": "2025-04-13T02:04:36.295522",
     "exception": false,
     "start_time": "2025-04-13T02:04:35.828668",
     "status": "completed"
    },
    "tags": []
   },
   "outputs": [
    {
     "name": "stdout",
     "output_type": "stream",
     "text": [
      "Baseline (verbose) output tokens: 198\n"
     ]
    },
    {
     "name": "stdout",
     "output_type": "stream",
     "text": [
      "Tuned output tokens: 4\n"
     ]
    }
   ],
   "source": [
    "baseline_token_output = baseline_response.usage_metadata.candidates_token_count\n",
    "print('Baseline (verbose) output tokens:', baseline_token_output)\n",
    "\n",
    "tuned_model_output = client.models.generate_content(\n",
    "    model=model_id, contents=sample_row)\n",
    "tuned_tokens_output = tuned_model_output.usage_metadata.candidates_token_count\n",
    "print('Tuned output tokens:', tuned_tokens_output)"
   ]
  },
  {
   "cell_type": "markdown",
   "id": "163100fd",
   "metadata": {
    "id": "6c1204a5d0ab",
    "papermill": {
     "duration": 0.009788,
     "end_time": "2025-04-13T02:04:36.315750",
     "exception": false,
     "start_time": "2025-04-13T02:04:36.305962",
     "status": "completed"
    },
    "tags": []
   },
   "source": [
    "## Next steps\n",
    "\n",
    "Now that you have tuned a classification model, try some other tasks, like tuning a model to respond with a specific tone or style using hand-written examples (or even generated examples!). Kaggle hosts [a number of datasets](https://www.kaggle.com/datasets) you can try out.\n",
    "\n",
    "Learn about [when supervised fine-tuning is most effective](https://cloud.google.com/blog/products/ai-machine-learning/supervised-fine-tuning-for-gemini-llm).\n",
    "\n",
    "And check out the [fine-tuning tutorial](https://ai.google.dev/gemini-api/docs/model-tuning/tutorial?hl=en&lang=python) for another example that shows a tuned model extending beyond the training data to new, unseen inputs.\n",
    "\n",
    "*- [Mark McD](https://linktr.ee/markmcd)*"
   ]
  }
 ],
 "metadata": {
  "colab": {
   "name": "day-4-fine-tuning-a-custom-model.ipynb",
   "toc_visible": true
  },
  "kaggle": {
   "accelerator": "none",
   "dataSources": [],
   "dockerImageVersionId": 30786,
   "isGpuEnabled": false,
   "isInternetEnabled": true,
   "language": "python",
   "sourceType": "notebook"
  },
  "kernelspec": {
   "display_name": ".venv",
   "language": "python",
   "name": "python3"
  },
  "language_info": {
   "codemirror_mode": {
    "name": "ipython",
    "version": 3
   },
   "file_extension": ".py",
   "mimetype": "text/x-python",
   "name": "python",
   "nbconvert_exporter": "python",
   "pygments_lexer": "ipython3",
   "version": "3.12.10"
  },
  "papermill": {
   "default_parameters": {},
   "duration": 269.390673,
   "end_time": "2025-04-13T02:04:37.248435",
   "environment_variables": {},
   "exception": null,
   "input_path": "__notebook__.ipynb",
   "output_path": "__notebook__.ipynb",
   "parameters": {},
   "start_time": "2025-04-13T02:00:07.857762",
   "version": "2.6.0"
  },
  "widgets": {
   "application/vnd.jupyter.widget-state+json": {
    "state": {
     "635d28ee07054e559baf17c615367005": {
      "model_module": "@jupyter-widgets/output",
      "model_module_version": "1.0.0",
      "model_name": "OutputModel",
      "state": {
       "_dom_classes": [],
       "_model_module": "@jupyter-widgets/output",
       "_model_module_version": "1.0.0",
       "_model_name": "OutputModel",
       "_view_count": null,
       "_view_module": "@jupyter-widgets/output",
       "_view_module_version": "1.0.0",
       "_view_name": "OutputView",
       "layout": "IPY_MODEL_b26a21cc5de7461895da622b9ad2f9bd",
       "msg_id": "",
       "outputs": [
        {
         "data": {
          "text/html": "<pre style=\"white-space:pre;overflow-x:auto;line-height:normal;font-family:Menlo,'DejaVu Sans Mono',consolas,'Courier New',monospace\"><span style=\"color: #800080; text-decoration-color: #800080\"> 100%</span> <span style=\"color: #729c1f; text-decoration-color: #729c1f\">━━━━━━━━━━━━━━━━━━━━━━━━━━━━━━━━━━━━━━━━━━━━━━━━━━━━━━━━━━━━━━━━━━━━━━━</span> <span style=\"color: #008000; text-decoration-color: #008000\">32/32 </span> [ <span style=\"color: #808000; text-decoration-color: #808000\">0:02:21</span> &lt; <span style=\"color: #008080; text-decoration-color: #008080\">0:00:00</span> , <span style=\"color: #800000; text-decoration-color: #800000\">2 it/s</span> ]\n</pre>\n",
          "text/plain": "\u001b[35m 100%\u001b[0m \u001b[38;2;114;156;31m━━━━━━━━━━━━━━━━━━━━━━━━━━━━━━━━━━━━━━━━━━━━━━━━━━━━━━━━━━━━━━━━━━━━━━━\u001b[0m \u001b[32m32/32 \u001b[0m [ \u001b[33m0:02:21\u001b[0m < \u001b[36m0:00:00\u001b[0m , \u001b[31m2 it/s\u001b[0m ]\n"
         },
         "metadata": {},
         "output_type": "display_data"
        }
       ]
      }
     },
     "8673a8bc7b8541d2829b27d273c2efa1": {
      "model_module": "@jupyter-widgets/output",
      "model_module_version": "1.0.0",
      "model_name": "OutputModel",
      "state": {
       "_dom_classes": [],
       "_model_module": "@jupyter-widgets/output",
       "_model_module_version": "1.0.0",
       "_model_name": "OutputModel",
       "_view_count": null,
       "_view_module": "@jupyter-widgets/output",
       "_view_module_version": "1.0.0",
       "_view_name": "OutputView",
       "layout": "IPY_MODEL_ade8f850643a45659b8b3a73c4291590",
       "msg_id": "",
       "outputs": [
        {
         "data": {
          "text/html": "<pre style=\"white-space:pre;overflow-x:auto;line-height:normal;font-family:Menlo,'DejaVu Sans Mono',consolas,'Courier New',monospace\"><span style=\"color: #800080; text-decoration-color: #800080\"> 100%</span> <span style=\"color: #729c1f; text-decoration-color: #729c1f\">━━━━━━━━━━━━━━━━━━━━━━━━━━━━━━━━━━━━━━━━━━━━━━━━━━━━━━━━━━━━━━━━━━━━━━━</span> <span style=\"color: #008000; text-decoration-color: #008000\">16/16 </span> [ <span style=\"color: #808000; text-decoration-color: #808000\">0:01:13</span> &lt; <span style=\"color: #008080; text-decoration-color: #008080\">0:00:00</span> , <span style=\"color: #800000; text-decoration-color: #800000\">2 it/s</span> ]\n</pre>\n",
          "text/plain": "\u001b[35m 100%\u001b[0m \u001b[38;2;114;156;31m━━━━━━━━━━━━━━━━━━━━━━━━━━━━━━━━━━━━━━━━━━━━━━━━━━━━━━━━━━━━━━━━━━━━━━━\u001b[0m \u001b[32m16/16 \u001b[0m [ \u001b[33m0:01:13\u001b[0m < \u001b[36m0:00:00\u001b[0m , \u001b[31m2 it/s\u001b[0m ]\n"
         },
         "metadata": {},
         "output_type": "display_data"
        }
       ]
      }
     },
     "ade8f850643a45659b8b3a73c4291590": {
      "model_module": "@jupyter-widgets/base",
      "model_module_version": "1.2.0",
      "model_name": "LayoutModel",
      "state": {
       "_model_module": "@jupyter-widgets/base",
       "_model_module_version": "1.2.0",
       "_model_name": "LayoutModel",
       "_view_count": null,
       "_view_module": "@jupyter-widgets/base",
       "_view_module_version": "1.2.0",
       "_view_name": "LayoutView",
       "align_content": null,
       "align_items": null,
       "align_self": null,
       "border": null,
       "bottom": null,
       "display": null,
       "flex": null,
       "flex_flow": null,
       "grid_area": null,
       "grid_auto_columns": null,
       "grid_auto_flow": null,
       "grid_auto_rows": null,
       "grid_column": null,
       "grid_gap": null,
       "grid_row": null,
       "grid_template_areas": null,
       "grid_template_columns": null,
       "grid_template_rows": null,
       "height": null,
       "justify_content": null,
       "justify_items": null,
       "left": null,
       "margin": null,
       "max_height": null,
       "max_width": null,
       "min_height": null,
       "min_width": null,
       "object_fit": null,
       "object_position": null,
       "order": null,
       "overflow": null,
       "overflow_x": null,
       "overflow_y": null,
       "padding": null,
       "right": null,
       "top": null,
       "visibility": null,
       "width": null
      }
     },
     "b26a21cc5de7461895da622b9ad2f9bd": {
      "model_module": "@jupyter-widgets/base",
      "model_module_version": "1.2.0",
      "model_name": "LayoutModel",
      "state": {
       "_model_module": "@jupyter-widgets/base",
       "_model_module_version": "1.2.0",
       "_model_name": "LayoutModel",
       "_view_count": null,
       "_view_module": "@jupyter-widgets/base",
       "_view_module_version": "1.2.0",
       "_view_name": "LayoutView",
       "align_content": null,
       "align_items": null,
       "align_self": null,
       "border": null,
       "bottom": null,
       "display": null,
       "flex": null,
       "flex_flow": null,
       "grid_area": null,
       "grid_auto_columns": null,
       "grid_auto_flow": null,
       "grid_auto_rows": null,
       "grid_column": null,
       "grid_gap": null,
       "grid_row": null,
       "grid_template_areas": null,
       "grid_template_columns": null,
       "grid_template_rows": null,
       "height": null,
       "justify_content": null,
       "justify_items": null,
       "left": null,
       "margin": null,
       "max_height": null,
       "max_width": null,
       "min_height": null,
       "min_width": null,
       "object_fit": null,
       "object_position": null,
       "order": null,
       "overflow": null,
       "overflow_x": null,
       "overflow_y": null,
       "padding": null,
       "right": null,
       "top": null,
       "visibility": null,
       "width": null
      }
     }
    },
    "version_major": 2,
    "version_minor": 0
   }
  }
 },
 "nbformat": 4,
 "nbformat_minor": 5
}
