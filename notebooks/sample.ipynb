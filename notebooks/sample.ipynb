{
 "cells": [
  {
   "cell_type": "code",
   "execution_count": 4,
   "id": "18180906",
   "metadata": {},
   "outputs": [],
   "source": [
    "from dotenv import load_dotenv\n",
    "import os\n",
    "    \n",
    "load_dotenv()\n",
    "mlflow_tracking_uri = os.getenv(\"MLFLOW_TRACKING_URI\")\n",
    "gemini_model_name = os.getenv(\"GEMINI_MODEL_NAME\")\n",
    "google_api_key = os.getenv(\"GEMINI_API_KEY\")"
   ]
  },
  {
   "cell_type": "code",
   "execution_count": 5,
   "id": "3f7d4ff4",
   "metadata": {},
   "outputs": [
    {
     "name": "stdout",
     "output_type": "stream",
     "text": [
      "A sapphire breath, a restless sigh,\n",
      "The ocean stretches, 'neath the sky.\n",
      "White horses dance on waves so blue,\n",
      "Secrets whispered, old and new.\n",
      "\n",
      "Sun-kissed surface, cool and deep,\n",
      "Where ancient mysteries softly sleep.\n",
      "A world of wonder, wild and free,\n",
      "The boundless, beautiful, open sea.\n"
     ]
    }
   ],
   "source": [
    "import google.genai as genai\n",
    "\n",
    "\n",
    "# Configure the API key (replace 'YOUR_API_KEY' with your actual API key)\n",
    "client = genai.Client(api_key=google_api_key)\n",
    "\n",
    "# Generate a response from the model\n",
    "prompt = \"Write a short poem about the ocean.\"\n",
    "response = client.models.generate_content(model=gemini_model_name, contents=prompt)\n",
    "\n",
    "# Print the generated text\n",
    "print(response.text)"
   ]
  }
 ],
 "metadata": {
  "kernelspec": {
   "display_name": "Python 3",
   "language": "python",
   "name": "python3"
  },
  "language_info": {
   "codemirror_mode": {
    "name": "ipython",
    "version": 3
   },
   "file_extension": ".py",
   "mimetype": "text/x-python",
   "name": "python",
   "nbconvert_exporter": "python",
   "pygments_lexer": "ipython3",
   "version": "3.12.10"
  }
 },
 "nbformat": 4,
 "nbformat_minor": 5
}
